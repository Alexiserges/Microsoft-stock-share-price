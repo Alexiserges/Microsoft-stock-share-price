{
 "cells": [
  {
   "cell_type": "markdown",
   "id": "c356c54b",
   "metadata": {},
   "source": [
    "### Impact of the War between Russia vs Ukraine on microsoft stock share market price\n",
    "\n",
    "\n",
    "####  Get the maximum price of the share from 2017 to 2022\n",
    "####  Which is the date of the highest price of the stock?\n",
    "####  Which is the date of the lowest price of the stock?"
   ]
  },
  {
   "cell_type": "code",
   "execution_count": 1,
   "id": "83ae7dcd",
   "metadata": {},
   "outputs": [
    {
     "name": "stdout",
     "output_type": "stream",
     "text": [
      "Collecting pandas-datareader\n",
      "  Downloading pandas_datareader-0.10.0-py3-none-any.whl (109 kB)\n",
      "Requirement already satisfied: requests>=2.19.0 in c:\\users\\dell\\anaconda3\\lib\\site-packages (from pandas-datareader) (2.26.0)\n",
      "Requirement already satisfied: lxml in c:\\users\\dell\\anaconda3\\lib\\site-packages (from pandas-datareader) (4.6.3)\n",
      "Requirement already satisfied: pandas>=0.23 in c:\\users\\dell\\anaconda3\\lib\\site-packages (from pandas-datareader) (1.3.4)\n",
      "Requirement already satisfied: python-dateutil>=2.7.3 in c:\\users\\dell\\anaconda3\\lib\\site-packages (from pandas>=0.23->pandas-datareader) (2.8.2)\n",
      "Requirement already satisfied: numpy>=1.17.3 in c:\\users\\dell\\anaconda3\\lib\\site-packages (from pandas>=0.23->pandas-datareader) (1.20.3)\n",
      "Requirement already satisfied: pytz>=2017.3 in c:\\users\\dell\\anaconda3\\lib\\site-packages (from pandas>=0.23->pandas-datareader) (2021.3)\n",
      "Requirement already satisfied: six>=1.5 in c:\\users\\dell\\anaconda3\\lib\\site-packages (from python-dateutil>=2.7.3->pandas>=0.23->pandas-datareader) (1.16.0)\n",
      "Requirement already satisfied: urllib3<1.27,>=1.21.1 in c:\\users\\dell\\anaconda3\\lib\\site-packages (from requests>=2.19.0->pandas-datareader) (1.26.7)\n",
      "Requirement already satisfied: certifi>=2017.4.17 in c:\\users\\dell\\anaconda3\\lib\\site-packages (from requests>=2.19.0->pandas-datareader) (2021.10.8)\n",
      "Requirement already satisfied: charset-normalizer~=2.0.0 in c:\\users\\dell\\anaconda3\\lib\\site-packages (from requests>=2.19.0->pandas-datareader) (2.0.4)\n",
      "Requirement already satisfied: idna<4,>=2.5 in c:\\users\\dell\\anaconda3\\lib\\site-packages (from requests>=2.19.0->pandas-datareader) (3.2)\n",
      "Installing collected packages: pandas-datareader\n",
      "Successfully installed pandas-datareader-0.10.0\n"
     ]
    }
   ],
   "source": [
    "## Install Pandas Data Reader\n",
    "!pip install pandas-datareader"
   ]
  },
  {
   "cell_type": "code",
   "execution_count": 2,
   "id": "8dda494b",
   "metadata": {},
   "outputs": [],
   "source": [
    "import pandas_datareader as pdr\n",
    "import pandas as pd\n",
    "from datetime import datetime"
   ]
  },
  {
   "cell_type": "code",
   "execution_count": 3,
   "id": "76bfdf96",
   "metadata": {},
   "outputs": [],
   "source": [
    "df_microsoft=pdr.get_data_yahoo('MSFT')"
   ]
  },
  {
   "cell_type": "code",
   "execution_count": 4,
   "id": "72d4ca89",
   "metadata": {},
   "outputs": [
    {
     "data": {
      "text/html": [
       "<div>\n",
       "<style scoped>\n",
       "    .dataframe tbody tr th:only-of-type {\n",
       "        vertical-align: middle;\n",
       "    }\n",
       "\n",
       "    .dataframe tbody tr th {\n",
       "        vertical-align: top;\n",
       "    }\n",
       "\n",
       "    .dataframe thead th {\n",
       "        text-align: right;\n",
       "    }\n",
       "</style>\n",
       "<table border=\"1\" class=\"dataframe\">\n",
       "  <thead>\n",
       "    <tr style=\"text-align: right;\">\n",
       "      <th></th>\n",
       "      <th>High</th>\n",
       "      <th>Low</th>\n",
       "      <th>Open</th>\n",
       "      <th>Close</th>\n",
       "      <th>Volume</th>\n",
       "      <th>Adj Close</th>\n",
       "    </tr>\n",
       "    <tr>\n",
       "      <th>Date</th>\n",
       "      <th></th>\n",
       "      <th></th>\n",
       "      <th></th>\n",
       "      <th></th>\n",
       "      <th></th>\n",
       "      <th></th>\n",
       "    </tr>\n",
       "  </thead>\n",
       "  <tbody>\n",
       "    <tr>\n",
       "      <th>2022-03-02</th>\n",
       "      <td>301.470001</td>\n",
       "      <td>293.700012</td>\n",
       "      <td>295.359985</td>\n",
       "      <td>300.190002</td>\n",
       "      <td>31873000.0</td>\n",
       "      <td>300.190002</td>\n",
       "    </tr>\n",
       "    <tr>\n",
       "      <th>2022-03-03</th>\n",
       "      <td>303.130005</td>\n",
       "      <td>294.049988</td>\n",
       "      <td>302.890015</td>\n",
       "      <td>295.920013</td>\n",
       "      <td>27314500.0</td>\n",
       "      <td>295.920013</td>\n",
       "    </tr>\n",
       "    <tr>\n",
       "      <th>2022-03-04</th>\n",
       "      <td>295.660004</td>\n",
       "      <td>287.170013</td>\n",
       "      <td>294.290009</td>\n",
       "      <td>289.859985</td>\n",
       "      <td>32356500.0</td>\n",
       "      <td>289.859985</td>\n",
       "    </tr>\n",
       "    <tr>\n",
       "      <th>2022-03-07</th>\n",
       "      <td>289.690002</td>\n",
       "      <td>278.529999</td>\n",
       "      <td>288.529999</td>\n",
       "      <td>278.910004</td>\n",
       "      <td>43088700.0</td>\n",
       "      <td>278.910004</td>\n",
       "    </tr>\n",
       "    <tr>\n",
       "      <th>2022-03-08</th>\n",
       "      <td>283.959991</td>\n",
       "      <td>270.000000</td>\n",
       "      <td>277.799988</td>\n",
       "      <td>275.850006</td>\n",
       "      <td>47949866.0</td>\n",
       "      <td>275.850006</td>\n",
       "    </tr>\n",
       "  </tbody>\n",
       "</table>\n",
       "</div>"
      ],
      "text/plain": [
       "                  High         Low        Open       Close      Volume  \\\n",
       "Date                                                                     \n",
       "2022-03-02  301.470001  293.700012  295.359985  300.190002  31873000.0   \n",
       "2022-03-03  303.130005  294.049988  302.890015  295.920013  27314500.0   \n",
       "2022-03-04  295.660004  287.170013  294.290009  289.859985  32356500.0   \n",
       "2022-03-07  289.690002  278.529999  288.529999  278.910004  43088700.0   \n",
       "2022-03-08  283.959991  270.000000  277.799988  275.850006  47949866.0   \n",
       "\n",
       "             Adj Close  \n",
       "Date                    \n",
       "2022-03-02  300.190002  \n",
       "2022-03-03  295.920013  \n",
       "2022-03-04  289.859985  \n",
       "2022-03-07  278.910004  \n",
       "2022-03-08  275.850006  "
      ]
     },
     "execution_count": 4,
     "metadata": {},
     "output_type": "execute_result"
    }
   ],
   "source": [
    "df_microsoft.tail()"
   ]
  },
  {
   "cell_type": "code",
   "execution_count": 5,
   "id": "3f17f174",
   "metadata": {},
   "outputs": [
    {
     "data": {
      "text/plain": [
       "<AxesSubplot:xlabel='Date'>"
      ]
     },
     "execution_count": 5,
     "metadata": {},
     "output_type": "execute_result"
    },
    {
     "data": {
      "image/png": "[encoded data removed]",
      "text/plain": [
       "<Figure size 864x288 with 1 Axes>"
      ]
     },
     "metadata": {
      "needs_background": "light"
     },
     "output_type": "display_data"
    }
   ],
   "source": [
    "###Maximum price of the share from 2017 to 2022\n",
    "\n",
    "df_microsoft['High'].plot(figsize=(12,4))"
   ]
  },
  {
   "cell_type": "code",
   "execution_count": 13,
   "id": "f57f5875",
   "metadata": {},
   "outputs": [
    {
     "data": {
      "text/plain": [
       "<AxesSubplot:xlabel='Date'>"
      ]
     },
     "execution_count": 13,
     "metadata": {},
     "output_type": "execute_result"
    },
    {
     "data": {
      "image/png": "[encoded data removed]",
      "text/plain": [
       "<Figure size 864x288 with 1 Axes>"
      ]
     },
     "metadata": {
      "needs_background": "light"
     },
     "output_type": "display_data"
    }
   ],
   "source": [
    "## xlimit and y limit\n",
    "df_microsoft['High'].plot(xlim=['2020-01-01','2022-01-01'],figsize=(12,4))"
   ]
  },
  {
   "cell_type": "code",
   "execution_count": 14,
   "id": "f703a343",
   "metadata": {},
   "outputs": [
    {
     "data": {
      "text/plain": [
       "<AxesSubplot:xlabel='Date'>"
      ]
     },
     "execution_count": 14,
     "metadata": {},
     "output_type": "execute_result"
    },
    {
     "data": {
      "image/png": "[encoded data removed]",
      "text/plain": [
       "<Figure size 864x288 with 1 Axes>"
      ]
     },
     "metadata": {
      "needs_background": "light"
     },
     "output_type": "display_data"
    }
   ],
   "source": [
    "## xlimit and y limit and coloring\n",
    "df_microsoft['High'].plot(xlim=['2020-01-01','2022-01-01'],ylim=[0,500],figsize=(12,4),ls='--',c='orange')"
   ]
  },
  {
   "cell_type": "code",
   "execution_count": 15,
   "id": "76564e33",
   "metadata": {},
   "outputs": [
    {
     "data": {
      "text/plain": [
       "DatetimeIndex(['2017-03-09', '2017-03-10', '2017-03-13', '2017-03-14',\n",
       "               '2017-03-15', '2017-03-16', '2017-03-17', '2017-03-20',\n",
       "               '2017-03-21', '2017-03-22',\n",
       "               ...\n",
       "               '2022-02-23', '2022-02-24', '2022-02-25', '2022-02-28',\n",
       "               '2022-03-01', '2022-03-02', '2022-03-03', '2022-03-04',\n",
       "               '2022-03-07', '2022-03-08'],\n",
       "              dtype='datetime64[ns]', name='Date', length=1259, freq=None)"
      ]
     },
     "execution_count": 15,
     "metadata": {},
     "output_type": "execute_result"
    }
   ],
   "source": [
    "df_microsoft.index"
   ]
  },
  {
   "cell_type": "code",
   "execution_count": 20,
   "id": "51932394",
   "metadata": {},
   "outputs": [],
   "source": [
    "index=df_microsoft.loc['2020-01-01':'2022-01-01'].index\n",
    "share_open=df_microsoft.loc['2020-01-01':'2022-01-01']['High']"
   ]
  },
  {
   "cell_type": "code",
   "execution_count": 22,
   "id": "1137fab1",
   "metadata": {},
   "outputs": [
    {
     "data": {
      "text/plain": [
       "Date\n",
       "2020-01-02    160.729996\n",
       "2020-01-03    159.949997\n",
       "2020-01-06    159.100006\n",
       "2020-01-07    159.669998\n",
       "2020-01-08    160.800003\n",
       "                 ...    \n",
       "2021-12-27    342.480011\n",
       "2021-12-28    343.809998\n",
       "2021-12-29    344.299988\n",
       "2021-12-30    343.130005\n",
       "2021-12-31    339.359985\n",
       "Name: High, Length: 505, dtype: float64"
      ]
     },
     "execution_count": 22,
     "metadata": {},
     "output_type": "execute_result"
    }
   ],
   "source": [
    "share_open"
   ]
  },
  {
   "cell_type": "code",
   "execution_count": 24,
   "id": "75e2b771",
   "metadata": {},
   "outputs": [],
   "source": [
    "import matplotlib.pyplot as plt\n",
    "%matplotlib inline"
   ]
  },
  {
   "cell_type": "code",
   "execution_count": 25,
   "id": "431f6f74",
   "metadata": {},
   "outputs": [
    {
     "data": {
      "text/plain": [
       "[<matplotlib.lines.Line2D at 0x19ebe55e220>]"
      ]
     },
     "execution_count": 25,
     "metadata": {},
     "output_type": "execute_result"
    },
    {
     "data": {
      "image/png": "[encoded data removed]",
      "text/plain": [
       "<Figure size 432x288 with 1 Axes>"
      ]
     },
     "metadata": {
      "needs_background": "light"
     },
     "output_type": "display_data"
    }
   ],
   "source": [
    "figure,axis=plt.subplots()\n",
    "plt.tight_layout()\n",
    "## Preventing overlapping\n",
    "figure.autofmt_xdate()\n",
    "axis.plot(index,share_open)"
   ]
  },
  {
   "cell_type": "code",
   "execution_count": 16,
   "id": "0085e95b",
   "metadata": {},
   "outputs": [],
   "source": [
    "index=df_microsoft.loc['2020-01-01':'2022-01-01'].index\n",
    "share_open=df_microsoft.loc['2020-01-01':'2022-01-01']['Open']"
   ]
  },
  {
   "cell_type": "code",
   "execution_count": 17,
   "id": "079b3110",
   "metadata": {},
   "outputs": [
    {
     "data": {
      "text/plain": [
       "Date\n",
       "2020-01-02    158.779999\n",
       "2020-01-03    158.320007\n",
       "2020-01-06    157.080002\n",
       "2020-01-07    159.320007\n",
       "2020-01-08    158.929993\n",
       "                 ...    \n",
       "2021-12-27    335.459991\n",
       "2021-12-28    343.149994\n",
       "2021-12-29    341.299988\n",
       "2021-12-30    341.910004\n",
       "2021-12-31    338.510010\n",
       "Name: Open, Length: 505, dtype: float64"
      ]
     },
     "execution_count": 17,
     "metadata": {},
     "output_type": "execute_result"
    }
   ],
   "source": [
    "share_open"
   ]
  },
  {
   "cell_type": "code",
   "execution_count": 18,
   "id": "7f7c83f8",
   "metadata": {},
   "outputs": [],
   "source": [
    "import matplotlib.pyplot as plt\n",
    "%matplotlib inline"
   ]
  },
  {
   "cell_type": "code",
   "execution_count": 19,
   "id": "6ef20db7",
   "metadata": {},
   "outputs": [
    {
     "data": {
      "text/plain": [
       "[<matplotlib.lines.Line2D at 0x19ebe4b3910>]"
      ]
     },
     "execution_count": 19,
     "metadata": {},
     "output_type": "execute_result"
    },
    {
     "data": {
      "image/png": "[encoded data removed]",
      "text/plain": [
       "<Figure size 432x288 with 1 Axes>"
      ]
     },
     "metadata": {
      "needs_background": "light"
     },
     "output_type": "display_data"
    }
   ],
   "source": [
    "figure,axis=plt.subplots()\n",
    "plt.tight_layout()\n",
    "## Preventing overlapping\n",
    "figure.autofmt_xdate()\n",
    "axis.plot(index,share_open)"
   ]
  },
  {
   "cell_type": "markdown",
   "id": "7d28cd40",
   "metadata": {},
   "source": [
    "### Datetime Index\n"
   ]
  },
  {
   "cell_type": "code",
   "execution_count": 26,
   "id": "515fb8e6",
   "metadata": {},
   "outputs": [],
   "source": [
    "df_microsoft=df_microsoft.reset_index()"
   ]
  },
  {
   "cell_type": "code",
   "execution_count": 27,
   "id": "4e461735",
   "metadata": {},
   "outputs": [
    {
     "name": "stdout",
     "output_type": "stream",
     "text": [
      "<class 'pandas.core.frame.DataFrame'>\n",
      "RangeIndex: 1259 entries, 0 to 1258\n",
      "Data columns (total 7 columns):\n",
      " #   Column     Non-Null Count  Dtype         \n",
      "---  ------     --------------  -----         \n",
      " 0   Date       1259 non-null   datetime64[ns]\n",
      " 1   High       1259 non-null   float64       \n",
      " 2   Low        1259 non-null   float64       \n",
      " 3   Open       1259 non-null   float64       \n",
      " 4   Close      1259 non-null   float64       \n",
      " 5   Volume     1259 non-null   float64       \n",
      " 6   Adj Close  1259 non-null   float64       \n",
      "dtypes: datetime64[ns](1), float64(6)\n",
      "memory usage: 69.0 KB\n"
     ]
    }
   ],
   "source": [
    "df_microsoft.info()"
   ]
  },
  {
   "cell_type": "code",
   "execution_count": 28,
   "id": "80224c69",
   "metadata": {},
   "outputs": [],
   "source": [
    "df_microsoft=df_microsoft.set_index('Date',drop=True)"
   ]
  },
  {
   "cell_type": "code",
   "execution_count": 29,
   "id": "9468b2e6",
   "metadata": {},
   "outputs": [
    {
     "data": {
      "text/html": [
       "<div>\n",
       "<style scoped>\n",
       "    .dataframe tbody tr th:only-of-type {\n",
       "        vertical-align: middle;\n",
       "    }\n",
       "\n",
       "    .dataframe tbody tr th {\n",
       "        vertical-align: top;\n",
       "    }\n",
       "\n",
       "    .dataframe thead th {\n",
       "        text-align: right;\n",
       "    }\n",
       "</style>\n",
       "<table border=\"1\" class=\"dataframe\">\n",
       "  <thead>\n",
       "    <tr style=\"text-align: right;\">\n",
       "      <th></th>\n",
       "      <th>High</th>\n",
       "      <th>Low</th>\n",
       "      <th>Open</th>\n",
       "      <th>Close</th>\n",
       "      <th>Volume</th>\n",
       "      <th>Adj Close</th>\n",
       "    </tr>\n",
       "    <tr>\n",
       "      <th>Date</th>\n",
       "      <th></th>\n",
       "      <th></th>\n",
       "      <th></th>\n",
       "      <th></th>\n",
       "      <th></th>\n",
       "      <th></th>\n",
       "    </tr>\n",
       "  </thead>\n",
       "  <tbody>\n",
       "    <tr>\n",
       "      <th>2017-03-09</th>\n",
       "      <td>65.199997</td>\n",
       "      <td>64.480003</td>\n",
       "      <td>65.190002</td>\n",
       "      <td>64.730003</td>\n",
       "      <td>19846800.0</td>\n",
       "      <td>60.424473</td>\n",
       "    </tr>\n",
       "    <tr>\n",
       "      <th>2017-03-10</th>\n",
       "      <td>65.260002</td>\n",
       "      <td>64.750000</td>\n",
       "      <td>65.110001</td>\n",
       "      <td>64.930000</td>\n",
       "      <td>19538200.0</td>\n",
       "      <td>60.611164</td>\n",
       "    </tr>\n",
       "    <tr>\n",
       "      <th>2017-03-13</th>\n",
       "      <td>65.190002</td>\n",
       "      <td>64.570000</td>\n",
       "      <td>65.010002</td>\n",
       "      <td>64.709999</td>\n",
       "      <td>20100000.0</td>\n",
       "      <td>60.405792</td>\n",
       "    </tr>\n",
       "    <tr>\n",
       "      <th>2017-03-14</th>\n",
       "      <td>64.550003</td>\n",
       "      <td>64.150002</td>\n",
       "      <td>64.529999</td>\n",
       "      <td>64.410004</td>\n",
       "      <td>14280200.0</td>\n",
       "      <td>60.125755</td>\n",
       "    </tr>\n",
       "    <tr>\n",
       "      <th>2017-03-15</th>\n",
       "      <td>64.919998</td>\n",
       "      <td>64.250000</td>\n",
       "      <td>64.550003</td>\n",
       "      <td>64.750000</td>\n",
       "      <td>24833800.0</td>\n",
       "      <td>60.443142</td>\n",
       "    </tr>\n",
       "  </tbody>\n",
       "</table>\n",
       "</div>"
      ],
      "text/plain": [
       "                 High        Low       Open      Close      Volume  Adj Close\n",
       "Date                                                                         \n",
       "2017-03-09  65.199997  64.480003  65.190002  64.730003  19846800.0  60.424473\n",
       "2017-03-10  65.260002  64.750000  65.110001  64.930000  19538200.0  60.611164\n",
       "2017-03-13  65.190002  64.570000  65.010002  64.709999  20100000.0  60.405792\n",
       "2017-03-14  64.550003  64.150002  64.529999  64.410004  14280200.0  60.125755\n",
       "2017-03-15  64.919998  64.250000  64.550003  64.750000  24833800.0  60.443142"
      ]
     },
     "execution_count": 29,
     "metadata": {},
     "output_type": "execute_result"
    }
   ],
   "source": [
    "df_microsoft.head()"
   ]
  },
  {
   "cell_type": "code",
   "execution_count": 30,
   "id": "3a74aba8",
   "metadata": {},
   "outputs": [],
   "source": [
    "## datetime\n",
    "from datetime import datetime"
   ]
  },
  {
   "cell_type": "code",
   "execution_count": 31,
   "id": "220ac6dc",
   "metadata": {},
   "outputs": [
    {
     "data": {
      "text/plain": [
       "datetime.datetime(2021, 11, 21, 0, 0)"
      ]
     },
     "execution_count": 31,
     "metadata": {},
     "output_type": "execute_result"
    }
   ],
   "source": [
    "datetime(2021,11,21)"
   ]
  },
  {
   "cell_type": "code",
   "execution_count": 32,
   "id": "330f0682",
   "metadata": {},
   "outputs": [
    {
     "data": {
      "text/plain": [
       "datetime.datetime(2022, 3, 9, 18, 58, 50, 470768)"
      ]
     },
     "execution_count": 32,
     "metadata": {},
     "output_type": "execute_result"
    }
   ],
   "source": [
    "datetime.now()"
   ]
  },
  {
   "cell_type": "markdown",
   "id": "23c14b85",
   "metadata": {},
   "source": [
    "### Let do some time resampling to find \n",
    "#### Which is the date of the highest price of the stock?\n",
    "#### Which is the date of the lowest price of the stock?"
   ]
  },
  {
   "cell_type": "code",
   "execution_count": 33,
   "id": "38932581",
   "metadata": {},
   "outputs": [
    {
     "data": {
      "text/html": [
       "<div>\n",
       "<style scoped>\n",
       "    .dataframe tbody tr th:only-of-type {\n",
       "        vertical-align: middle;\n",
       "    }\n",
       "\n",
       "    .dataframe tbody tr th {\n",
       "        vertical-align: top;\n",
       "    }\n",
       "\n",
       "    .dataframe thead th {\n",
       "        text-align: right;\n",
       "    }\n",
       "</style>\n",
       "<table border=\"1\" class=\"dataframe\">\n",
       "  <thead>\n",
       "    <tr style=\"text-align: right;\">\n",
       "      <th></th>\n",
       "      <th>High</th>\n",
       "      <th>Low</th>\n",
       "      <th>Open</th>\n",
       "      <th>Close</th>\n",
       "      <th>Volume</th>\n",
       "      <th>Adj Close</th>\n",
       "    </tr>\n",
       "    <tr>\n",
       "      <th>Date</th>\n",
       "      <th></th>\n",
       "      <th></th>\n",
       "      <th></th>\n",
       "      <th></th>\n",
       "      <th></th>\n",
       "      <th></th>\n",
       "    </tr>\n",
       "  </thead>\n",
       "  <tbody>\n",
       "    <tr>\n",
       "      <th>2017-03-09</th>\n",
       "      <td>65.199997</td>\n",
       "      <td>64.480003</td>\n",
       "      <td>65.190002</td>\n",
       "      <td>64.730003</td>\n",
       "      <td>19846800.0</td>\n",
       "      <td>60.424473</td>\n",
       "    </tr>\n",
       "    <tr>\n",
       "      <th>2017-03-10</th>\n",
       "      <td>65.260002</td>\n",
       "      <td>64.750000</td>\n",
       "      <td>65.110001</td>\n",
       "      <td>64.930000</td>\n",
       "      <td>19538200.0</td>\n",
       "      <td>60.611164</td>\n",
       "    </tr>\n",
       "    <tr>\n",
       "      <th>2017-03-13</th>\n",
       "      <td>65.190002</td>\n",
       "      <td>64.570000</td>\n",
       "      <td>65.010002</td>\n",
       "      <td>64.709999</td>\n",
       "      <td>20100000.0</td>\n",
       "      <td>60.405792</td>\n",
       "    </tr>\n",
       "    <tr>\n",
       "      <th>2017-03-14</th>\n",
       "      <td>64.550003</td>\n",
       "      <td>64.150002</td>\n",
       "      <td>64.529999</td>\n",
       "      <td>64.410004</td>\n",
       "      <td>14280200.0</td>\n",
       "      <td>60.125755</td>\n",
       "    </tr>\n",
       "    <tr>\n",
       "      <th>2017-03-15</th>\n",
       "      <td>64.919998</td>\n",
       "      <td>64.250000</td>\n",
       "      <td>64.550003</td>\n",
       "      <td>64.750000</td>\n",
       "      <td>24833800.0</td>\n",
       "      <td>60.443142</td>\n",
       "    </tr>\n",
       "  </tbody>\n",
       "</table>\n",
       "</div>"
      ],
      "text/plain": [
       "                 High        Low       Open      Close      Volume  Adj Close\n",
       "Date                                                                         \n",
       "2017-03-09  65.199997  64.480003  65.190002  64.730003  19846800.0  60.424473\n",
       "2017-03-10  65.260002  64.750000  65.110001  64.930000  19538200.0  60.611164\n",
       "2017-03-13  65.190002  64.570000  65.010002  64.709999  20100000.0  60.405792\n",
       "2017-03-14  64.550003  64.150002  64.529999  64.410004  14280200.0  60.125755\n",
       "2017-03-15  64.919998  64.250000  64.550003  64.750000  24833800.0  60.443142"
      ]
     },
     "execution_count": 33,
     "metadata": {},
     "output_type": "execute_result"
    }
   ],
   "source": [
    "df_microsoft.head()"
   ]
  },
  {
   "cell_type": "code",
   "execution_count": 37,
   "id": "9cd9afe1",
   "metadata": {},
   "outputs": [
    {
     "data": {
      "text/html": [
       "<div>\n",
       "<style scoped>\n",
       "    .dataframe tbody tr th:only-of-type {\n",
       "        vertical-align: middle;\n",
       "    }\n",
       "\n",
       "    .dataframe tbody tr th {\n",
       "        vertical-align: top;\n",
       "    }\n",
       "\n",
       "    .dataframe thead th {\n",
       "        text-align: right;\n",
       "    }\n",
       "</style>\n",
       "<table border=\"1\" class=\"dataframe\">\n",
       "  <thead>\n",
       "    <tr style=\"text-align: right;\">\n",
       "      <th></th>\n",
       "      <th>High</th>\n",
       "      <th>Low</th>\n",
       "      <th>Open</th>\n",
       "      <th>Close</th>\n",
       "      <th>Volume</th>\n",
       "      <th>Adj Close</th>\n",
       "    </tr>\n",
       "    <tr>\n",
       "      <th>Date</th>\n",
       "      <th></th>\n",
       "      <th></th>\n",
       "      <th></th>\n",
       "      <th></th>\n",
       "      <th></th>\n",
       "      <th></th>\n",
       "    </tr>\n",
       "  </thead>\n",
       "  <tbody>\n",
       "    <tr>\n",
       "      <th>2017-12-31</th>\n",
       "      <td>87.500000</td>\n",
       "      <td>86.230003</td>\n",
       "      <td>87.120003</td>\n",
       "      <td>86.849998</td>\n",
       "      <td>71066700.0</td>\n",
       "      <td>82.383965</td>\n",
       "    </tr>\n",
       "    <tr>\n",
       "      <th>2018-12-31</th>\n",
       "      <td>116.180000</td>\n",
       "      <td>114.930000</td>\n",
       "      <td>115.419998</td>\n",
       "      <td>115.610001</td>\n",
       "      <td>111242100.0</td>\n",
       "      <td>111.083611</td>\n",
       "    </tr>\n",
       "    <tr>\n",
       "      <th>2019-12-31</th>\n",
       "      <td>159.550003</td>\n",
       "      <td>158.220001</td>\n",
       "      <td>159.449997</td>\n",
       "      <td>158.960007</td>\n",
       "      <td>55636400.0</td>\n",
       "      <td>155.664322</td>\n",
       "    </tr>\n",
       "    <tr>\n",
       "      <th>2020-12-31</th>\n",
       "      <td>232.860001</td>\n",
       "      <td>227.350006</td>\n",
       "      <td>229.270004</td>\n",
       "      <td>231.649994</td>\n",
       "      <td>97012700.0</td>\n",
       "      <td>228.651718</td>\n",
       "    </tr>\n",
       "    <tr>\n",
       "      <th>2021-12-31</th>\n",
       "      <td>349.670013</td>\n",
       "      <td>342.200012</td>\n",
       "      <td>344.619995</td>\n",
       "      <td>343.109985</td>\n",
       "      <td>69870600.0</td>\n",
       "      <td>342.402008</td>\n",
       "    </tr>\n",
       "    <tr>\n",
       "      <th>2022-12-31</th>\n",
       "      <td>338.000000</td>\n",
       "      <td>329.779999</td>\n",
       "      <td>335.350006</td>\n",
       "      <td>334.750000</td>\n",
       "      <td>90428900.0</td>\n",
       "      <td>334.059265</td>\n",
       "    </tr>\n",
       "  </tbody>\n",
       "</table>\n",
       "</div>"
      ],
      "text/plain": [
       "                  High         Low        Open       Close       Volume  \\\n",
       "Date                                                                      \n",
       "2017-12-31   87.500000   86.230003   87.120003   86.849998   71066700.0   \n",
       "2018-12-31  116.180000  114.930000  115.419998  115.610001  111242100.0   \n",
       "2019-12-31  159.550003  158.220001  159.449997  158.960007   55636400.0   \n",
       "2020-12-31  232.860001  227.350006  229.270004  231.649994   97012700.0   \n",
       "2021-12-31  349.670013  342.200012  344.619995  343.109985   69870600.0   \n",
       "2022-12-31  338.000000  329.779999  335.350006  334.750000   90428900.0   \n",
       "\n",
       "             Adj Close  \n",
       "Date                    \n",
       "2017-12-31   82.383965  \n",
       "2018-12-31  111.083611  \n",
       "2019-12-31  155.664322  \n",
       "2020-12-31  228.651718  \n",
       "2021-12-31  342.402008  \n",
       "2022-12-31  334.059265  "
      ]
     },
     "execution_count": 37,
     "metadata": {},
     "output_type": "execute_result"
    }
   ],
   "source": [
    "### Which is the date of the highest price of the stock?\n",
    "df_microsoft.resample(rule='A').max()"
   ]
  },
  {
   "cell_type": "markdown",
   "id": "67861e1b",
   "metadata": {},
   "source": [
    "#### Observation: Microsoft stock share price has achieve a Max price in 2021-12-31 and we can also have a predicted price in 2022-12-12"
   ]
  },
  {
   "cell_type": "code",
   "execution_count": 36,
   "id": "b23f2859",
   "metadata": {},
   "outputs": [
    {
     "data": {
      "text/html": [
       "<div>\n",
       "<style scoped>\n",
       "    .dataframe tbody tr th:only-of-type {\n",
       "        vertical-align: middle;\n",
       "    }\n",
       "\n",
       "    .dataframe tbody tr th {\n",
       "        vertical-align: top;\n",
       "    }\n",
       "\n",
       "    .dataframe thead th {\n",
       "        text-align: right;\n",
       "    }\n",
       "</style>\n",
       "<table border=\"1\" class=\"dataframe\">\n",
       "  <thead>\n",
       "    <tr style=\"text-align: right;\">\n",
       "      <th></th>\n",
       "      <th>High</th>\n",
       "      <th>Low</th>\n",
       "      <th>Open</th>\n",
       "      <th>Close</th>\n",
       "      <th>Volume</th>\n",
       "      <th>Adj Close</th>\n",
       "    </tr>\n",
       "    <tr>\n",
       "      <th>Date</th>\n",
       "      <th></th>\n",
       "      <th></th>\n",
       "      <th></th>\n",
       "      <th></th>\n",
       "      <th></th>\n",
       "      <th></th>\n",
       "    </tr>\n",
       "  </thead>\n",
       "  <tbody>\n",
       "    <tr>\n",
       "      <th>2017-12-31</th>\n",
       "      <td>64.550003</td>\n",
       "      <td>64.120003</td>\n",
       "      <td>64.120003</td>\n",
       "      <td>64.209999</td>\n",
       "      <td>7425600.0</td>\n",
       "      <td>59.939053</td>\n",
       "    </tr>\n",
       "    <tr>\n",
       "      <th>2018-12-31</th>\n",
       "      <td>86.309998</td>\n",
       "      <td>83.830002</td>\n",
       "      <td>86.059998</td>\n",
       "      <td>85.010002</td>\n",
       "      <td>13677200.0</td>\n",
       "      <td>80.638588</td>\n",
       "    </tr>\n",
       "    <tr>\n",
       "      <th>2019-12-31</th>\n",
       "      <td>100.190002</td>\n",
       "      <td>97.199997</td>\n",
       "      <td>99.550003</td>\n",
       "      <td>97.400002</td>\n",
       "      <td>8989200.0</td>\n",
       "      <td>93.990868</td>\n",
       "    </tr>\n",
       "    <tr>\n",
       "      <th>2020-12-31</th>\n",
       "      <td>140.570007</td>\n",
       "      <td>132.520004</td>\n",
       "      <td>137.009995</td>\n",
       "      <td>135.419998</td>\n",
       "      <td>10550600.0</td>\n",
       "      <td>132.974548</td>\n",
       "    </tr>\n",
       "    <tr>\n",
       "      <th>2021-12-31</th>\n",
       "      <td>214.509995</td>\n",
       "      <td>211.940002</td>\n",
       "      <td>212.169998</td>\n",
       "      <td>212.250000</td>\n",
       "      <td>13900200.0</td>\n",
       "      <td>210.051315</td>\n",
       "    </tr>\n",
       "    <tr>\n",
       "      <th>2022-12-31</th>\n",
       "      <td>283.959991</td>\n",
       "      <td>270.000000</td>\n",
       "      <td>272.510010</td>\n",
       "      <td>275.850006</td>\n",
       "      <td>27058300.0</td>\n",
       "      <td>275.850006</td>\n",
       "    </tr>\n",
       "  </tbody>\n",
       "</table>\n",
       "</div>"
      ],
      "text/plain": [
       "                  High         Low        Open       Close      Volume  \\\n",
       "Date                                                                     \n",
       "2017-12-31   64.550003   64.120003   64.120003   64.209999   7425600.0   \n",
       "2018-12-31   86.309998   83.830002   86.059998   85.010002  13677200.0   \n",
       "2019-12-31  100.190002   97.199997   99.550003   97.400002   8989200.0   \n",
       "2020-12-31  140.570007  132.520004  137.009995  135.419998  10550600.0   \n",
       "2021-12-31  214.509995  211.940002  212.169998  212.250000  13900200.0   \n",
       "2022-12-31  283.959991  270.000000  272.510010  275.850006  27058300.0   \n",
       "\n",
       "             Adj Close  \n",
       "Date                    \n",
       "2017-12-31   59.939053  \n",
       "2018-12-31   80.638588  \n",
       "2019-12-31   93.990868  \n",
       "2020-12-31  132.974548  \n",
       "2021-12-31  210.051315  \n",
       "2022-12-31  275.850006  "
      ]
     },
     "execution_count": 36,
     "metadata": {},
     "output_type": "execute_result"
    }
   ],
   "source": [
    "df_microsoft.resample(rule='A').min()"
   ]
  },
  {
   "cell_type": "markdown",
   "id": "a933f463",
   "metadata": {},
   "source": [
    "#### Observation: Microsoft stock share price has achieve a min price in 2017-12-31 and we can also have a min predicted price in 2022-12-12"
   ]
  },
  {
   "cell_type": "code",
   "execution_count": 39,
   "id": "d88656e9",
   "metadata": {},
   "outputs": [
    {
     "data": {
      "text/plain": [
       "<AxesSubplot:xlabel='Date'>"
      ]
     },
     "execution_count": 39,
     "metadata": {},
     "output_type": "execute_result"
    },
    {
     "data": {
      "image/png": "[encoded data removed]",
      "text/plain": [
       "<Figure size 432x288 with 1 Axes>"
      ]
     },
     "metadata": {
      "needs_background": "light"
     },
     "output_type": "display_data"
    }
   ],
   "source": [
    "##year end frequency\n",
    "df_microsoft.resample(rule='A').max()['High'].plot()"
   ]
  },
  {
   "cell_type": "code",
   "execution_count": 41,
   "id": "c3927d7b",
   "metadata": {},
   "outputs": [
    {
     "data": {
      "text/plain": [
       "<AxesSubplot:xlabel='Date'>"
      ]
     },
     "execution_count": 41,
     "metadata": {},
     "output_type": "execute_result"
    },
    {
     "data": {
      "image/png": "[encoded data removed]",
      "text/plain": [
       "<Figure size 432x288 with 1 Axes>"
      ]
     },
     "metadata": {
      "needs_background": "light"
     },
     "output_type": "display_data"
    }
   ],
   "source": [
    "##quaterly start frequency\n",
    "\n",
    "df_microsoft.resample(rule='QS').max()['High'].plot()"
   ]
  },
  {
   "cell_type": "code",
   "execution_count": 42,
   "id": "e100d376",
   "metadata": {},
   "outputs": [
    {
     "data": {
      "text/plain": [
       "<AxesSubplot:xlabel='Date'>"
      ]
     },
     "execution_count": 42,
     "metadata": {},
     "output_type": "execute_result"
    },
    {
     "data": {
      "image/png": "[encoded data removed]",
      "text/plain": [
       "<Figure size 432x288 with 1 Axes>"
      ]
     },
     "metadata": {
      "needs_background": "light"
     },
     "output_type": "display_data"
    }
   ],
   "source": [
    "##year end frequency\n",
    "df_microsoft.resample(rule='A').max()['Low'].plot()"
   ]
  },
  {
   "cell_type": "code",
   "execution_count": 43,
   "id": "dfa0dbc4",
   "metadata": {},
   "outputs": [
    {
     "data": {
      "text/plain": [
       "<AxesSubplot:xlabel='Date'>"
      ]
     },
     "execution_count": 43,
     "metadata": {},
     "output_type": "execute_result"
    },
    {
     "data": {
      "image/png": "[encoded data removed]",
      "text/plain": [
       "<Figure size 432x288 with 1 Axes>"
      ]
     },
     "metadata": {
      "needs_background": "light"
     },
     "output_type": "display_data"
    }
   ],
   "source": [
    "##quaterly start frequency\n",
    "\n",
    "df_microsoft.resample(rule='QS').max()['Low'].plot()"
   ]
  },
  {
   "cell_type": "code",
   "execution_count": 44,
   "id": "cca955d2",
   "metadata": {},
   "outputs": [
    {
     "data": {
      "text/html": [
       "<div>\n",
       "<style scoped>\n",
       "    .dataframe tbody tr th:only-of-type {\n",
       "        vertical-align: middle;\n",
       "    }\n",
       "\n",
       "    .dataframe tbody tr th {\n",
       "        vertical-align: top;\n",
       "    }\n",
       "\n",
       "    .dataframe thead th {\n",
       "        text-align: right;\n",
       "    }\n",
       "</style>\n",
       "<table border=\"1\" class=\"dataframe\">\n",
       "  <thead>\n",
       "    <tr style=\"text-align: right;\">\n",
       "      <th></th>\n",
       "      <th>High</th>\n",
       "      <th>Low</th>\n",
       "      <th>Open</th>\n",
       "      <th>Close</th>\n",
       "      <th>Volume</th>\n",
       "      <th>Adj Close</th>\n",
       "    </tr>\n",
       "    <tr>\n",
       "      <th>Date</th>\n",
       "      <th></th>\n",
       "      <th></th>\n",
       "      <th></th>\n",
       "      <th></th>\n",
       "      <th></th>\n",
       "      <th></th>\n",
       "    </tr>\n",
       "  </thead>\n",
       "  <tbody>\n",
       "    <tr>\n",
       "      <th>2017-12-29</th>\n",
       "      <td>87.500000</td>\n",
       "      <td>86.230003</td>\n",
       "      <td>87.120003</td>\n",
       "      <td>86.849998</td>\n",
       "      <td>71066700.0</td>\n",
       "      <td>82.383965</td>\n",
       "    </tr>\n",
       "    <tr>\n",
       "      <th>2018-12-31</th>\n",
       "      <td>116.180000</td>\n",
       "      <td>114.930000</td>\n",
       "      <td>115.419998</td>\n",
       "      <td>115.610001</td>\n",
       "      <td>111242100.0</td>\n",
       "      <td>111.083611</td>\n",
       "    </tr>\n",
       "    <tr>\n",
       "      <th>2019-12-31</th>\n",
       "      <td>159.550003</td>\n",
       "      <td>158.220001</td>\n",
       "      <td>159.449997</td>\n",
       "      <td>158.960007</td>\n",
       "      <td>55636400.0</td>\n",
       "      <td>155.664322</td>\n",
       "    </tr>\n",
       "    <tr>\n",
       "      <th>2020-12-31</th>\n",
       "      <td>232.860001</td>\n",
       "      <td>227.350006</td>\n",
       "      <td>229.270004</td>\n",
       "      <td>231.649994</td>\n",
       "      <td>97012700.0</td>\n",
       "      <td>228.651718</td>\n",
       "    </tr>\n",
       "    <tr>\n",
       "      <th>2021-12-31</th>\n",
       "      <td>349.670013</td>\n",
       "      <td>342.200012</td>\n",
       "      <td>344.619995</td>\n",
       "      <td>343.109985</td>\n",
       "      <td>69870600.0</td>\n",
       "      <td>342.402008</td>\n",
       "    </tr>\n",
       "    <tr>\n",
       "      <th>2022-12-30</th>\n",
       "      <td>338.000000</td>\n",
       "      <td>329.779999</td>\n",
       "      <td>335.350006</td>\n",
       "      <td>334.750000</td>\n",
       "      <td>90428900.0</td>\n",
       "      <td>334.059265</td>\n",
       "    </tr>\n",
       "  </tbody>\n",
       "</table>\n",
       "</div>"
      ],
      "text/plain": [
       "                  High         Low        Open       Close       Volume  \\\n",
       "Date                                                                      \n",
       "2017-12-29   87.500000   86.230003   87.120003   86.849998   71066700.0   \n",
       "2018-12-31  116.180000  114.930000  115.419998  115.610001  111242100.0   \n",
       "2019-12-31  159.550003  158.220001  159.449997  158.960007   55636400.0   \n",
       "2020-12-31  232.860001  227.350006  229.270004  231.649994   97012700.0   \n",
       "2021-12-31  349.670013  342.200012  344.619995  343.109985   69870600.0   \n",
       "2022-12-30  338.000000  329.779999  335.350006  334.750000   90428900.0   \n",
       "\n",
       "             Adj Close  \n",
       "Date                    \n",
       "2017-12-29   82.383965  \n",
       "2018-12-31  111.083611  \n",
       "2019-12-31  155.664322  \n",
       "2020-12-31  228.651718  \n",
       "2021-12-31  342.402008  \n",
       "2022-12-30  334.059265  "
      ]
     },
     "execution_count": 44,
     "metadata": {},
     "output_type": "execute_result"
    }
   ],
   "source": [
    "##Business End Frequency\n",
    "\n",
    "df_microsoft.resample(rule='BA').max()"
   ]
  },
  {
   "cell_type": "code",
   "execution_count": 45,
   "id": "be1aefef",
   "metadata": {},
   "outputs": [
    {
     "data": {
      "text/html": [
       "<div>\n",
       "<style scoped>\n",
       "    .dataframe tbody tr th:only-of-type {\n",
       "        vertical-align: middle;\n",
       "    }\n",
       "\n",
       "    .dataframe tbody tr th {\n",
       "        vertical-align: top;\n",
       "    }\n",
       "\n",
       "    .dataframe thead th {\n",
       "        text-align: right;\n",
       "    }\n",
       "</style>\n",
       "<table border=\"1\" class=\"dataframe\">\n",
       "  <thead>\n",
       "    <tr style=\"text-align: right;\">\n",
       "      <th></th>\n",
       "      <th>High</th>\n",
       "      <th>Low</th>\n",
       "      <th>Open</th>\n",
       "      <th>Close</th>\n",
       "      <th>Volume</th>\n",
       "      <th>Adj Close</th>\n",
       "    </tr>\n",
       "    <tr>\n",
       "      <th>Date</th>\n",
       "      <th></th>\n",
       "      <th></th>\n",
       "      <th></th>\n",
       "      <th></th>\n",
       "      <th></th>\n",
       "      <th></th>\n",
       "    </tr>\n",
       "  </thead>\n",
       "  <tbody>\n",
       "    <tr>\n",
       "      <th>2017-01-02</th>\n",
       "      <td>66.190002</td>\n",
       "      <td>65.449997</td>\n",
       "      <td>65.650002</td>\n",
       "      <td>65.860001</td>\n",
       "      <td>49219700.0</td>\n",
       "      <td>61.479309</td>\n",
       "    </tr>\n",
       "    <tr>\n",
       "      <th>2017-04-03</th>\n",
       "      <td>72.889999</td>\n",
       "      <td>72.269997</td>\n",
       "      <td>72.639999</td>\n",
       "      <td>72.519997</td>\n",
       "      <td>49187400.0</td>\n",
       "      <td>68.084343</td>\n",
       "    </tr>\n",
       "    <tr>\n",
       "      <th>2017-07-03</th>\n",
       "      <td>75.970001</td>\n",
       "      <td>75.040001</td>\n",
       "      <td>75.349998</td>\n",
       "      <td>75.440002</td>\n",
       "      <td>46717100.0</td>\n",
       "      <td>71.203102</td>\n",
       "    </tr>\n",
       "    <tr>\n",
       "      <th>2017-10-02</th>\n",
       "      <td>87.500000</td>\n",
       "      <td>86.230003</td>\n",
       "      <td>87.120003</td>\n",
       "      <td>86.849998</td>\n",
       "      <td>71066700.0</td>\n",
       "      <td>82.383965</td>\n",
       "    </tr>\n",
       "    <tr>\n",
       "      <th>2018-01-01</th>\n",
       "      <td>97.239998</td>\n",
       "      <td>96.040001</td>\n",
       "      <td>97.000000</td>\n",
       "      <td>96.769997</td>\n",
       "      <td>67998600.0</td>\n",
       "      <td>92.225029</td>\n",
       "    </tr>\n",
       "    <tr>\n",
       "      <th>2018-04-02</th>\n",
       "      <td>102.690002</td>\n",
       "      <td>101.900002</td>\n",
       "      <td>102.650002</td>\n",
       "      <td>102.489998</td>\n",
       "      <td>65738600.0</td>\n",
       "      <td>98.099754</td>\n",
       "    </tr>\n",
       "    <tr>\n",
       "      <th>2018-07-02</th>\n",
       "      <td>115.290001</td>\n",
       "      <td>114.199997</td>\n",
       "      <td>114.800003</td>\n",
       "      <td>114.669998</td>\n",
       "      <td>71229700.0</td>\n",
       "      <td>110.180397</td>\n",
       "    </tr>\n",
       "    <tr>\n",
       "      <th>2018-10-01</th>\n",
       "      <td>116.180000</td>\n",
       "      <td>114.930000</td>\n",
       "      <td>115.419998</td>\n",
       "      <td>115.610001</td>\n",
       "      <td>111242100.0</td>\n",
       "      <td>111.083611</td>\n",
       "    </tr>\n",
       "    <tr>\n",
       "      <th>2019-01-01</th>\n",
       "      <td>120.820000</td>\n",
       "      <td>117.089996</td>\n",
       "      <td>119.500000</td>\n",
       "      <td>120.220001</td>\n",
       "      <td>55636400.0</td>\n",
       "      <td>116.507591</td>\n",
       "    </tr>\n",
       "    <tr>\n",
       "      <th>2019-04-01</th>\n",
       "      <td>138.399994</td>\n",
       "      <td>137.000000</td>\n",
       "      <td>137.449997</td>\n",
       "      <td>137.779999</td>\n",
       "      <td>38033900.0</td>\n",
       "      <td>134.019577</td>\n",
       "    </tr>\n",
       "    <tr>\n",
       "      <th>2019-07-01</th>\n",
       "      <td>142.369995</td>\n",
       "      <td>140.300003</td>\n",
       "      <td>141.500000</td>\n",
       "      <td>141.339996</td>\n",
       "      <td>48992400.0</td>\n",
       "      <td>137.676727</td>\n",
       "    </tr>\n",
       "    <tr>\n",
       "      <th>2019-10-01</th>\n",
       "      <td>159.550003</td>\n",
       "      <td>158.220001</td>\n",
       "      <td>159.449997</td>\n",
       "      <td>158.960007</td>\n",
       "      <td>53477500.0</td>\n",
       "      <td>155.664322</td>\n",
       "    </tr>\n",
       "    <tr>\n",
       "      <th>2020-01-01</th>\n",
       "      <td>190.699997</td>\n",
       "      <td>186.470001</td>\n",
       "      <td>190.649994</td>\n",
       "      <td>188.699997</td>\n",
       "      <td>97012700.0</td>\n",
       "      <td>184.787704</td>\n",
       "    </tr>\n",
       "    <tr>\n",
       "      <th>2020-04-01</th>\n",
       "      <td>204.399994</td>\n",
       "      <td>201.429993</td>\n",
       "      <td>202.089996</td>\n",
       "      <td>203.509995</td>\n",
       "      <td>67111700.0</td>\n",
       "      <td>200.391556</td>\n",
       "    </tr>\n",
       "    <tr>\n",
       "      <th>2020-07-01</th>\n",
       "      <td>232.860001</td>\n",
       "      <td>227.350006</td>\n",
       "      <td>229.270004</td>\n",
       "      <td>231.649994</td>\n",
       "      <td>78983000.0</td>\n",
       "      <td>228.651718</td>\n",
       "    </tr>\n",
       "    <tr>\n",
       "      <th>2020-10-01</th>\n",
       "      <td>228.119995</td>\n",
       "      <td>223.580002</td>\n",
       "      <td>226.309998</td>\n",
       "      <td>224.960007</td>\n",
       "      <td>63354900.0</td>\n",
       "      <td>222.629654</td>\n",
       "    </tr>\n",
       "    <tr>\n",
       "      <th>2021-01-01</th>\n",
       "      <td>246.130005</td>\n",
       "      <td>242.919998</td>\n",
       "      <td>245.029999</td>\n",
       "      <td>244.990005</td>\n",
       "      <td>69870600.0</td>\n",
       "      <td>242.452179</td>\n",
       "    </tr>\n",
       "    <tr>\n",
       "      <th>2021-04-01</th>\n",
       "      <td>271.649994</td>\n",
       "      <td>269.600006</td>\n",
       "      <td>270.690002</td>\n",
       "      <td>271.399994</td>\n",
       "      <td>46903100.0</td>\n",
       "      <td>269.828796</td>\n",
       "    </tr>\n",
       "    <tr>\n",
       "      <th>2021-07-01</th>\n",
       "      <td>305.839996</td>\n",
       "      <td>302.000000</td>\n",
       "      <td>305.019989</td>\n",
       "      <td>305.220001</td>\n",
       "      <td>43186200.0</td>\n",
       "      <td>304.033966</td>\n",
       "    </tr>\n",
       "    <tr>\n",
       "      <th>2021-10-01</th>\n",
       "      <td>349.670013</td>\n",
       "      <td>342.200012</td>\n",
       "      <td>344.619995</td>\n",
       "      <td>343.109985</td>\n",
       "      <td>52588700.0</td>\n",
       "      <td>342.402008</td>\n",
       "    </tr>\n",
       "    <tr>\n",
       "      <th>2022-01-03</th>\n",
       "      <td>338.000000</td>\n",
       "      <td>329.779999</td>\n",
       "      <td>335.350006</td>\n",
       "      <td>334.750000</td>\n",
       "      <td>90428900.0</td>\n",
       "      <td>334.059265</td>\n",
       "    </tr>\n",
       "  </tbody>\n",
       "</table>\n",
       "</div>"
      ],
      "text/plain": [
       "                  High         Low        Open       Close       Volume  \\\n",
       "Date                                                                      \n",
       "2017-01-02   66.190002   65.449997   65.650002   65.860001   49219700.0   \n",
       "2017-04-03   72.889999   72.269997   72.639999   72.519997   49187400.0   \n",
       "2017-07-03   75.970001   75.040001   75.349998   75.440002   46717100.0   \n",
       "2017-10-02   87.500000   86.230003   87.120003   86.849998   71066700.0   \n",
       "2018-01-01   97.239998   96.040001   97.000000   96.769997   67998600.0   \n",
       "2018-04-02  102.690002  101.900002  102.650002  102.489998   65738600.0   \n",
       "2018-07-02  115.290001  114.199997  114.800003  114.669998   71229700.0   \n",
       "2018-10-01  116.180000  114.930000  115.419998  115.610001  111242100.0   \n",
       "2019-01-01  120.820000  117.089996  119.500000  120.220001   55636400.0   \n",
       "2019-04-01  138.399994  137.000000  137.449997  137.779999   38033900.0   \n",
       "2019-07-01  142.369995  140.300003  141.500000  141.339996   48992400.0   \n",
       "2019-10-01  159.550003  158.220001  159.449997  158.960007   53477500.0   \n",
       "2020-01-01  190.699997  186.470001  190.649994  188.699997   97012700.0   \n",
       "2020-04-01  204.399994  201.429993  202.089996  203.509995   67111700.0   \n",
       "2020-07-01  232.860001  227.350006  229.270004  231.649994   78983000.0   \n",
       "2020-10-01  228.119995  223.580002  226.309998  224.960007   63354900.0   \n",
       "2021-01-01  246.130005  242.919998  245.029999  244.990005   69870600.0   \n",
       "2021-04-01  271.649994  269.600006  270.690002  271.399994   46903100.0   \n",
       "2021-07-01  305.839996  302.000000  305.019989  305.220001   43186200.0   \n",
       "2021-10-01  349.670013  342.200012  344.619995  343.109985   52588700.0   \n",
       "2022-01-03  338.000000  329.779999  335.350006  334.750000   90428900.0   \n",
       "\n",
       "             Adj Close  \n",
       "Date                    \n",
       "2017-01-02   61.479309  \n",
       "2017-04-03   68.084343  \n",
       "2017-07-03   71.203102  \n",
       "2017-10-02   82.383965  \n",
       "2018-01-01   92.225029  \n",
       "2018-04-02   98.099754  \n",
       "2018-07-02  110.180397  \n",
       "2018-10-01  111.083611  \n",
       "2019-01-01  116.507591  \n",
       "2019-04-01  134.019577  \n",
       "2019-07-01  137.676727  \n",
       "2019-10-01  155.664322  \n",
       "2020-01-01  184.787704  \n",
       "2020-04-01  200.391556  \n",
       "2020-07-01  228.651718  \n",
       "2020-10-01  222.629654  \n",
       "2021-01-01  242.452179  \n",
       "2021-04-01  269.828796  \n",
       "2021-07-01  304.033966  \n",
       "2021-10-01  342.402008  \n",
       "2022-01-03  334.059265  "
      ]
     },
     "execution_count": 45,
     "metadata": {},
     "output_type": "execute_result"
    }
   ],
   "source": [
    "df_microsoft.resample(rule='BQS').max()"
   ]
  },
  {
   "cell_type": "code",
   "execution_count": 46,
   "id": "5aa6b692",
   "metadata": {},
   "outputs": [
    {
     "data": {
      "text/plain": [
       "<AxesSubplot:xlabel='Date'>"
      ]
     },
     "execution_count": 46,
     "metadata": {},
     "output_type": "execute_result"
    },
    {
     "data": {
      "image/png": "[encoded data removed]",
      "text/plain": [
       "<Figure size 432x288 with 1 Axes>"
      ]
     },
     "metadata": {
      "needs_background": "light"
     },
     "output_type": "display_data"
    }
   ],
   "source": [
    "##plotting\n",
    "df_microsoft['High'].resample(rule='A').mean().plot(kind='bar')"
   ]
  },
  {
   "cell_type": "code",
   "execution_count": 47,
   "id": "266e64b8",
   "metadata": {},
   "outputs": [
    {
     "data": {
      "text/plain": [
       "<AxesSubplot:xlabel='Date'>"
      ]
     },
     "execution_count": 47,
     "metadata": {},
     "output_type": "execute_result"
    },
    {
     "data": {
      "image/png": "[encoded data removed]",
      "text/plain": [
       "<Figure size 1080x432 with 1 Axes>"
      ]
     },
     "metadata": {
      "needs_background": "light"
     },
     "output_type": "display_data"
    }
   ],
   "source": [
    "df_microsoft['High'].resample(rule='M').max().plot(kind='bar',figsize=(15,6))"
   ]
  },
  {
   "cell_type": "code",
   "execution_count": 48,
   "id": "112f98ae",
   "metadata": {},
   "outputs": [
    {
     "data": {
      "text/plain": [
       "Date\n",
       "2017-03-09          NaN\n",
       "2017-03-10          NaN\n",
       "2017-03-13          NaN\n",
       "2017-03-14          NaN\n",
       "2017-03-15          NaN\n",
       "2017-03-16          NaN\n",
       "2017-03-17          NaN\n",
       "2017-03-20          NaN\n",
       "2017-03-21          NaN\n",
       "2017-03-22          NaN\n",
       "2017-03-23    65.500000\n",
       "2017-03-24    65.500000\n",
       "2017-03-27    65.500000\n",
       "2017-03-28    65.500000\n",
       "2017-03-29    65.500000\n",
       "2017-03-30    65.980003\n",
       "2017-03-31    66.190002\n",
       "2017-04-03    66.190002\n",
       "2017-04-04    66.190002\n",
       "2017-04-05    66.349998\n",
       "Name: High, dtype: float64"
      ]
     },
     "execution_count": 48,
     "metadata": {},
     "output_type": "execute_result"
    }
   ],
   "source": [
    "df_microsoft['High'].rolling(11).max().head(20)"
   ]
  },
  {
   "cell_type": "code",
   "execution_count": 49,
   "id": "c71dcd56",
   "metadata": {},
   "outputs": [
    {
     "data": {
      "text/html": [
       "<div>\n",
       "<style scoped>\n",
       "    .dataframe tbody tr th:only-of-type {\n",
       "        vertical-align: middle;\n",
       "    }\n",
       "\n",
       "    .dataframe tbody tr th {\n",
       "        vertical-align: top;\n",
       "    }\n",
       "\n",
       "    .dataframe thead th {\n",
       "        text-align: right;\n",
       "    }\n",
       "</style>\n",
       "<table border=\"1\" class=\"dataframe\">\n",
       "  <thead>\n",
       "    <tr style=\"text-align: right;\">\n",
       "      <th></th>\n",
       "      <th>High</th>\n",
       "      <th>Low</th>\n",
       "      <th>Open</th>\n",
       "      <th>Close</th>\n",
       "      <th>Volume</th>\n",
       "      <th>Adj Close</th>\n",
       "    </tr>\n",
       "    <tr>\n",
       "      <th>Date</th>\n",
       "      <th></th>\n",
       "      <th></th>\n",
       "      <th></th>\n",
       "      <th></th>\n",
       "      <th></th>\n",
       "      <th></th>\n",
       "    </tr>\n",
       "  </thead>\n",
       "  <tbody>\n",
       "    <tr>\n",
       "      <th>2017-03-09</th>\n",
       "      <td>65.199997</td>\n",
       "      <td>64.480003</td>\n",
       "      <td>65.190002</td>\n",
       "      <td>64.730003</td>\n",
       "      <td>19846800.0</td>\n",
       "      <td>60.424473</td>\n",
       "    </tr>\n",
       "    <tr>\n",
       "      <th>2017-03-10</th>\n",
       "      <td>65.260002</td>\n",
       "      <td>64.750000</td>\n",
       "      <td>65.110001</td>\n",
       "      <td>64.930000</td>\n",
       "      <td>19538200.0</td>\n",
       "      <td>60.611164</td>\n",
       "    </tr>\n",
       "    <tr>\n",
       "      <th>2017-03-13</th>\n",
       "      <td>65.190002</td>\n",
       "      <td>64.570000</td>\n",
       "      <td>65.010002</td>\n",
       "      <td>64.709999</td>\n",
       "      <td>20100000.0</td>\n",
       "      <td>60.405792</td>\n",
       "    </tr>\n",
       "    <tr>\n",
       "      <th>2017-03-14</th>\n",
       "      <td>64.550003</td>\n",
       "      <td>64.150002</td>\n",
       "      <td>64.529999</td>\n",
       "      <td>64.410004</td>\n",
       "      <td>14280200.0</td>\n",
       "      <td>60.125755</td>\n",
       "    </tr>\n",
       "    <tr>\n",
       "      <th>2017-03-15</th>\n",
       "      <td>64.919998</td>\n",
       "      <td>64.250000</td>\n",
       "      <td>64.550003</td>\n",
       "      <td>64.750000</td>\n",
       "      <td>24833800.0</td>\n",
       "      <td>60.443142</td>\n",
       "    </tr>\n",
       "  </tbody>\n",
       "</table>\n",
       "</div>"
      ],
      "text/plain": [
       "                 High        Low       Open      Close      Volume  Adj Close\n",
       "Date                                                                         \n",
       "2017-03-09  65.199997  64.480003  65.190002  64.730003  19846800.0  60.424473\n",
       "2017-03-10  65.260002  64.750000  65.110001  64.930000  19538200.0  60.611164\n",
       "2017-03-13  65.190002  64.570000  65.010002  64.709999  20100000.0  60.405792\n",
       "2017-03-14  64.550003  64.150002  64.529999  64.410004  14280200.0  60.125755\n",
       "2017-03-15  64.919998  64.250000  64.550003  64.750000  24833800.0  60.443142"
      ]
     },
     "execution_count": 49,
     "metadata": {},
     "output_type": "execute_result"
    }
   ],
   "source": [
    "df_microsoft.head()"
   ]
  },
  {
   "cell_type": "code",
   "execution_count": 50,
   "id": "4d5649b6",
   "metadata": {},
   "outputs": [],
   "source": [
    "df_microsoft['High:30 days rolling']=df_microsoft['High'].rolling(30).mean()"
   ]
  },
  {
   "cell_type": "code",
   "execution_count": 51,
   "id": "24ab46ba",
   "metadata": {},
   "outputs": [
    {
     "data": {
      "text/html": [
       "<div>\n",
       "<style scoped>\n",
       "    .dataframe tbody tr th:only-of-type {\n",
       "        vertical-align: middle;\n",
       "    }\n",
       "\n",
       "    .dataframe tbody tr th {\n",
       "        vertical-align: top;\n",
       "    }\n",
       "\n",
       "    .dataframe thead th {\n",
       "        text-align: right;\n",
       "    }\n",
       "</style>\n",
       "<table border=\"1\" class=\"dataframe\">\n",
       "  <thead>\n",
       "    <tr style=\"text-align: right;\">\n",
       "      <th></th>\n",
       "      <th>High</th>\n",
       "      <th>Low</th>\n",
       "      <th>Open</th>\n",
       "      <th>Close</th>\n",
       "      <th>Volume</th>\n",
       "      <th>Adj Close</th>\n",
       "      <th>High:30 days rolling</th>\n",
       "    </tr>\n",
       "    <tr>\n",
       "      <th>Date</th>\n",
       "      <th></th>\n",
       "      <th></th>\n",
       "      <th></th>\n",
       "      <th></th>\n",
       "      <th></th>\n",
       "      <th></th>\n",
       "      <th></th>\n",
       "    </tr>\n",
       "  </thead>\n",
       "  <tbody>\n",
       "    <tr>\n",
       "      <th>2017-03-09</th>\n",
       "      <td>65.199997</td>\n",
       "      <td>64.480003</td>\n",
       "      <td>65.190002</td>\n",
       "      <td>64.730003</td>\n",
       "      <td>19846800.0</td>\n",
       "      <td>60.424473</td>\n",
       "      <td>NaN</td>\n",
       "    </tr>\n",
       "    <tr>\n",
       "      <th>2017-03-10</th>\n",
       "      <td>65.260002</td>\n",
       "      <td>64.750000</td>\n",
       "      <td>65.110001</td>\n",
       "      <td>64.930000</td>\n",
       "      <td>19538200.0</td>\n",
       "      <td>60.611164</td>\n",
       "      <td>NaN</td>\n",
       "    </tr>\n",
       "    <tr>\n",
       "      <th>2017-03-13</th>\n",
       "      <td>65.190002</td>\n",
       "      <td>64.570000</td>\n",
       "      <td>65.010002</td>\n",
       "      <td>64.709999</td>\n",
       "      <td>20100000.0</td>\n",
       "      <td>60.405792</td>\n",
       "      <td>NaN</td>\n",
       "    </tr>\n",
       "    <tr>\n",
       "      <th>2017-03-14</th>\n",
       "      <td>64.550003</td>\n",
       "      <td>64.150002</td>\n",
       "      <td>64.529999</td>\n",
       "      <td>64.410004</td>\n",
       "      <td>14280200.0</td>\n",
       "      <td>60.125755</td>\n",
       "      <td>NaN</td>\n",
       "    </tr>\n",
       "    <tr>\n",
       "      <th>2017-03-15</th>\n",
       "      <td>64.919998</td>\n",
       "      <td>64.250000</td>\n",
       "      <td>64.550003</td>\n",
       "      <td>64.750000</td>\n",
       "      <td>24833800.0</td>\n",
       "      <td>60.443142</td>\n",
       "      <td>NaN</td>\n",
       "    </tr>\n",
       "    <tr>\n",
       "      <th>2017-03-16</th>\n",
       "      <td>64.760002</td>\n",
       "      <td>64.300003</td>\n",
       "      <td>64.750000</td>\n",
       "      <td>64.639999</td>\n",
       "      <td>20674300.0</td>\n",
       "      <td>60.340462</td>\n",
       "      <td>NaN</td>\n",
       "    </tr>\n",
       "    <tr>\n",
       "      <th>2017-03-17</th>\n",
       "      <td>65.239998</td>\n",
       "      <td>64.680000</td>\n",
       "      <td>64.910004</td>\n",
       "      <td>64.870003</td>\n",
       "      <td>49219700.0</td>\n",
       "      <td>60.555153</td>\n",
       "      <td>NaN</td>\n",
       "    </tr>\n",
       "    <tr>\n",
       "      <th>2017-03-20</th>\n",
       "      <td>65.180000</td>\n",
       "      <td>64.720001</td>\n",
       "      <td>64.910004</td>\n",
       "      <td>64.930000</td>\n",
       "      <td>14598100.0</td>\n",
       "      <td>60.611164</td>\n",
       "      <td>NaN</td>\n",
       "    </tr>\n",
       "    <tr>\n",
       "      <th>2017-03-21</th>\n",
       "      <td>65.500000</td>\n",
       "      <td>64.129997</td>\n",
       "      <td>65.190002</td>\n",
       "      <td>64.209999</td>\n",
       "      <td>26640500.0</td>\n",
       "      <td>59.939053</td>\n",
       "      <td>NaN</td>\n",
       "    </tr>\n",
       "    <tr>\n",
       "      <th>2017-03-22</th>\n",
       "      <td>65.139999</td>\n",
       "      <td>64.120003</td>\n",
       "      <td>64.120003</td>\n",
       "      <td>65.029999</td>\n",
       "      <td>20680000.0</td>\n",
       "      <td>60.704514</td>\n",
       "      <td>NaN</td>\n",
       "    </tr>\n",
       "    <tr>\n",
       "      <th>2017-03-23</th>\n",
       "      <td>65.239998</td>\n",
       "      <td>64.769997</td>\n",
       "      <td>64.940002</td>\n",
       "      <td>64.870003</td>\n",
       "      <td>19269200.0</td>\n",
       "      <td>60.555153</td>\n",
       "      <td>NaN</td>\n",
       "    </tr>\n",
       "    <tr>\n",
       "      <th>2017-03-24</th>\n",
       "      <td>65.449997</td>\n",
       "      <td>64.760002</td>\n",
       "      <td>65.360001</td>\n",
       "      <td>64.980003</td>\n",
       "      <td>22617100.0</td>\n",
       "      <td>60.657848</td>\n",
       "      <td>NaN</td>\n",
       "    </tr>\n",
       "    <tr>\n",
       "      <th>2017-03-27</th>\n",
       "      <td>65.220001</td>\n",
       "      <td>64.349998</td>\n",
       "      <td>64.629997</td>\n",
       "      <td>65.099998</td>\n",
       "      <td>18614700.0</td>\n",
       "      <td>60.769859</td>\n",
       "      <td>NaN</td>\n",
       "    </tr>\n",
       "    <tr>\n",
       "      <th>2017-03-28</th>\n",
       "      <td>65.470001</td>\n",
       "      <td>64.650002</td>\n",
       "      <td>64.959999</td>\n",
       "      <td>65.290001</td>\n",
       "      <td>20080400.0</td>\n",
       "      <td>60.947220</td>\n",
       "      <td>NaN</td>\n",
       "    </tr>\n",
       "    <tr>\n",
       "      <th>2017-03-29</th>\n",
       "      <td>65.500000</td>\n",
       "      <td>64.949997</td>\n",
       "      <td>65.120003</td>\n",
       "      <td>65.470001</td>\n",
       "      <td>13618400.0</td>\n",
       "      <td>61.115242</td>\n",
       "      <td>NaN</td>\n",
       "    </tr>\n",
       "    <tr>\n",
       "      <th>2017-03-30</th>\n",
       "      <td>65.980003</td>\n",
       "      <td>65.360001</td>\n",
       "      <td>65.419998</td>\n",
       "      <td>65.709999</td>\n",
       "      <td>15122800.0</td>\n",
       "      <td>61.339279</td>\n",
       "      <td>NaN</td>\n",
       "    </tr>\n",
       "    <tr>\n",
       "      <th>2017-03-31</th>\n",
       "      <td>66.190002</td>\n",
       "      <td>65.449997</td>\n",
       "      <td>65.650002</td>\n",
       "      <td>65.860001</td>\n",
       "      <td>21040300.0</td>\n",
       "      <td>61.479309</td>\n",
       "      <td>NaN</td>\n",
       "    </tr>\n",
       "    <tr>\n",
       "      <th>2017-04-03</th>\n",
       "      <td>65.940002</td>\n",
       "      <td>65.190002</td>\n",
       "      <td>65.809998</td>\n",
       "      <td>65.550003</td>\n",
       "      <td>20400900.0</td>\n",
       "      <td>61.189926</td>\n",
       "      <td>NaN</td>\n",
       "    </tr>\n",
       "    <tr>\n",
       "      <th>2017-04-04</th>\n",
       "      <td>65.809998</td>\n",
       "      <td>65.279999</td>\n",
       "      <td>65.389999</td>\n",
       "      <td>65.730003</td>\n",
       "      <td>12997400.0</td>\n",
       "      <td>61.357952</td>\n",
       "      <td>NaN</td>\n",
       "    </tr>\n",
       "    <tr>\n",
       "      <th>2017-04-05</th>\n",
       "      <td>66.349998</td>\n",
       "      <td>65.440002</td>\n",
       "      <td>66.300003</td>\n",
       "      <td>65.559998</td>\n",
       "      <td>21448600.0</td>\n",
       "      <td>61.199249</td>\n",
       "      <td>NaN</td>\n",
       "    </tr>\n",
       "    <tr>\n",
       "      <th>2017-04-06</th>\n",
       "      <td>66.059998</td>\n",
       "      <td>65.480003</td>\n",
       "      <td>65.599998</td>\n",
       "      <td>65.730003</td>\n",
       "      <td>18103500.0</td>\n",
       "      <td>61.357952</td>\n",
       "      <td>NaN</td>\n",
       "    </tr>\n",
       "    <tr>\n",
       "      <th>2017-04-07</th>\n",
       "      <td>65.959999</td>\n",
       "      <td>65.440002</td>\n",
       "      <td>65.849998</td>\n",
       "      <td>65.680000</td>\n",
       "      <td>14108500.0</td>\n",
       "      <td>61.311283</td>\n",
       "      <td>NaN</td>\n",
       "    </tr>\n",
       "    <tr>\n",
       "      <th>2017-04-10</th>\n",
       "      <td>65.820000</td>\n",
       "      <td>65.360001</td>\n",
       "      <td>65.610001</td>\n",
       "      <td>65.529999</td>\n",
       "      <td>17952700.0</td>\n",
       "      <td>61.171253</td>\n",
       "      <td>NaN</td>\n",
       "    </tr>\n",
       "    <tr>\n",
       "      <th>2017-04-11</th>\n",
       "      <td>65.610001</td>\n",
       "      <td>64.849998</td>\n",
       "      <td>65.599998</td>\n",
       "      <td>65.480003</td>\n",
       "      <td>18791500.0</td>\n",
       "      <td>61.124588</td>\n",
       "      <td>NaN</td>\n",
       "    </tr>\n",
       "    <tr>\n",
       "      <th>2017-04-12</th>\n",
       "      <td>65.510002</td>\n",
       "      <td>65.110001</td>\n",
       "      <td>65.419998</td>\n",
       "      <td>65.230003</td>\n",
       "      <td>17108500.0</td>\n",
       "      <td>60.891197</td>\n",
       "      <td>NaN</td>\n",
       "    </tr>\n",
       "    <tr>\n",
       "      <th>2017-04-13</th>\n",
       "      <td>65.860001</td>\n",
       "      <td>64.949997</td>\n",
       "      <td>65.290001</td>\n",
       "      <td>64.949997</td>\n",
       "      <td>17896500.0</td>\n",
       "      <td>60.629837</td>\n",
       "      <td>NaN</td>\n",
       "    </tr>\n",
       "    <tr>\n",
       "      <th>2017-04-17</th>\n",
       "      <td>65.489998</td>\n",
       "      <td>65.010002</td>\n",
       "      <td>65.040001</td>\n",
       "      <td>65.480003</td>\n",
       "      <td>16689300.0</td>\n",
       "      <td>61.124588</td>\n",
       "      <td>NaN</td>\n",
       "    </tr>\n",
       "    <tr>\n",
       "      <th>2017-04-18</th>\n",
       "      <td>65.709999</td>\n",
       "      <td>65.160004</td>\n",
       "      <td>65.330002</td>\n",
       "      <td>65.389999</td>\n",
       "      <td>15155600.0</td>\n",
       "      <td>61.040577</td>\n",
       "      <td>NaN</td>\n",
       "    </tr>\n",
       "    <tr>\n",
       "      <th>2017-04-19</th>\n",
       "      <td>65.750000</td>\n",
       "      <td>64.889999</td>\n",
       "      <td>65.650002</td>\n",
       "      <td>65.040001</td>\n",
       "      <td>26992800.0</td>\n",
       "      <td>60.713848</td>\n",
       "      <td>NaN</td>\n",
       "    </tr>\n",
       "    <tr>\n",
       "      <th>2017-04-20</th>\n",
       "      <td>65.750000</td>\n",
       "      <td>65.139999</td>\n",
       "      <td>65.459999</td>\n",
       "      <td>65.500000</td>\n",
       "      <td>22299500.0</td>\n",
       "      <td>61.143265</td>\n",
       "      <td>65.520333</td>\n",
       "    </tr>\n",
       "    <tr>\n",
       "      <th>2017-04-21</th>\n",
       "      <td>66.699997</td>\n",
       "      <td>65.449997</td>\n",
       "      <td>65.669998</td>\n",
       "      <td>66.400002</td>\n",
       "      <td>32522600.0</td>\n",
       "      <td>61.983395</td>\n",
       "      <td>65.570333</td>\n",
       "    </tr>\n",
       "  </tbody>\n",
       "</table>\n",
       "</div>"
      ],
      "text/plain": [
       "                 High        Low       Open      Close      Volume  Adj Close  \\\n",
       "Date                                                                            \n",
       "2017-03-09  65.199997  64.480003  65.190002  64.730003  19846800.0  60.424473   \n",
       "2017-03-10  65.260002  64.750000  65.110001  64.930000  19538200.0  60.611164   \n",
       "2017-03-13  65.190002  64.570000  65.010002  64.709999  20100000.0  60.405792   \n",
       "2017-03-14  64.550003  64.150002  64.529999  64.410004  14280200.0  60.125755   \n",
       "2017-03-15  64.919998  64.250000  64.550003  64.750000  24833800.0  60.443142   \n",
       "2017-03-16  64.760002  64.300003  64.750000  64.639999  20674300.0  60.340462   \n",
       "2017-03-17  65.239998  64.680000  64.910004  64.870003  49219700.0  60.555153   \n",
       "2017-03-20  65.180000  64.720001  64.910004  64.930000  14598100.0  60.611164   \n",
       "2017-03-21  65.500000  64.129997  65.190002  64.209999  26640500.0  59.939053   \n",
       "2017-03-22  65.139999  64.120003  64.120003  65.029999  20680000.0  60.704514   \n",
       "2017-03-23  65.239998  64.769997  64.940002  64.870003  19269200.0  60.555153   \n",
       "2017-03-24  65.449997  64.760002  65.360001  64.980003  22617100.0  60.657848   \n",
       "2017-03-27  65.220001  64.349998  64.629997  65.099998  18614700.0  60.769859   \n",
       "2017-03-28  65.470001  64.650002  64.959999  65.290001  20080400.0  60.947220   \n",
       "2017-03-29  65.500000  64.949997  65.120003  65.470001  13618400.0  61.115242   \n",
       "2017-03-30  65.980003  65.360001  65.419998  65.709999  15122800.0  61.339279   \n",
       "2017-03-31  66.190002  65.449997  65.650002  65.860001  21040300.0  61.479309   \n",
       "2017-04-03  65.940002  65.190002  65.809998  65.550003  20400900.0  61.189926   \n",
       "2017-04-04  65.809998  65.279999  65.389999  65.730003  12997400.0  61.357952   \n",
       "2017-04-05  66.349998  65.440002  66.300003  65.559998  21448600.0  61.199249   \n",
       "2017-04-06  66.059998  65.480003  65.599998  65.730003  18103500.0  61.357952   \n",
       "2017-04-07  65.959999  65.440002  65.849998  65.680000  14108500.0  61.311283   \n",
       "2017-04-10  65.820000  65.360001  65.610001  65.529999  17952700.0  61.171253   \n",
       "2017-04-11  65.610001  64.849998  65.599998  65.480003  18791500.0  61.124588   \n",
       "2017-04-12  65.510002  65.110001  65.419998  65.230003  17108500.0  60.891197   \n",
       "2017-04-13  65.860001  64.949997  65.290001  64.949997  17896500.0  60.629837   \n",
       "2017-04-17  65.489998  65.010002  65.040001  65.480003  16689300.0  61.124588   \n",
       "2017-04-18  65.709999  65.160004  65.330002  65.389999  15155600.0  61.040577   \n",
       "2017-04-19  65.750000  64.889999  65.650002  65.040001  26992800.0  60.713848   \n",
       "2017-04-20  65.750000  65.139999  65.459999  65.500000  22299500.0  61.143265   \n",
       "2017-04-21  66.699997  65.449997  65.669998  66.400002  32522600.0  61.983395   \n",
       "\n",
       "            High:30 days rolling  \n",
       "Date                              \n",
       "2017-03-09                   NaN  \n",
       "2017-03-10                   NaN  \n",
       "2017-03-13                   NaN  \n",
       "2017-03-14                   NaN  \n",
       "2017-03-15                   NaN  \n",
       "2017-03-16                   NaN  \n",
       "2017-03-17                   NaN  \n",
       "2017-03-20                   NaN  \n",
       "2017-03-21                   NaN  \n",
       "2017-03-22                   NaN  \n",
       "2017-03-23                   NaN  \n",
       "2017-03-24                   NaN  \n",
       "2017-03-27                   NaN  \n",
       "2017-03-28                   NaN  \n",
       "2017-03-29                   NaN  \n",
       "2017-03-30                   NaN  \n",
       "2017-03-31                   NaN  \n",
       "2017-04-03                   NaN  \n",
       "2017-04-04                   NaN  \n",
       "2017-04-05                   NaN  \n",
       "2017-04-06                   NaN  \n",
       "2017-04-07                   NaN  \n",
       "2017-04-10                   NaN  \n",
       "2017-04-11                   NaN  \n",
       "2017-04-12                   NaN  \n",
       "2017-04-13                   NaN  \n",
       "2017-04-17                   NaN  \n",
       "2017-04-18                   NaN  \n",
       "2017-04-19                   NaN  \n",
       "2017-04-20             65.520333  \n",
       "2017-04-21             65.570333  "
      ]
     },
     "execution_count": 51,
     "metadata": {},
     "output_type": "execute_result"
    }
   ],
   "source": [
    "df_microsoft.head(31)"
   ]
  },
  {
   "cell_type": "code",
   "execution_count": 53,
   "id": "85f92aff",
   "metadata": {},
   "outputs": [
    {
     "data": {
      "text/plain": [
       "<AxesSubplot:xlabel='Date'>"
      ]
     },
     "execution_count": 53,
     "metadata": {},
     "output_type": "execute_result"
    },
    {
     "data": {
      "image/png": "[encoded data removed]",
      "text/plain": [
       "<Figure size 864x360 with 1 Axes>"
      ]
     },
     "metadata": {
      "needs_background": "light"
     },
     "output_type": "display_data"
    }
   ],
   "source": [
    "df_microsoft[['High','High:30 days rolling']].plot(figsize=(12,5))"
   ]
  },
  {
   "cell_type": "markdown",
   "id": "d2487217",
   "metadata": {},
   "source": [
    "### Observation: We can notice that microsoft stock share market shown that is the suitable time to buy stock share because predicted price along 30 days from now will keep decreasing.\n",
    "### One of the cause of the down price can probabily due to the War between Ukraine VS Russia."
   ]
  },
  {
   "cell_type": "code",
   "execution_count": null,
   "id": "75dd5383",
   "metadata": {},
   "outputs": [],
   "source": []
  }
 ],
 "metadata": {
  "kernelspec": {
   "display_name": "Python 3 (ipykernel)",
   "language": "python",
   "name": "python3"
  },
  "language_info": {
   "codemirror_mode": {
    "name": "ipython",
    "version": 3
   },
   "file_extension": ".py",
   "mimetype": "text/x-python",
   "name": "python",
   "nbconvert_exporter": "python",
   "pygments_lexer": "ipython3",
   "version": "3.9.7"
  }
 },
 "nbformat": 4,
 "nbformat_minor": 5
}
